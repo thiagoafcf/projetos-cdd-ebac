{
  "nbformat": 4,
  "nbformat_minor": 0,
  "metadata": {
    "colab": {
      "provenance": []
    },
    "kernelspec": {
      "name": "python3",
      "display_name": "Python 3"
    },
    "language_info": {
      "name": "python"
    }
  },
  "cells": [
    {
      "cell_type": "markdown",
      "source": [
        "# Exercício do Módulo 5\n",
        "\n",
        "**Primeira versão**: Calculadora simples de dois números que realiza as seis operações (Soma, Subtração, Divisão, Divisão Inteira e Resto) entre os números informados.\n"
      ],
      "metadata": {
        "id": "gs6NxhxwZGiE"
      }
    },
    {
      "cell_type": "code",
      "source": [
        "primeiro_numero = input(\"Digite o primeiro número: \")"
      ],
      "metadata": {
        "colab": {
          "base_uri": "https://localhost:8080/"
        },
        "id": "wcCg8sBU2j7Z",
        "outputId": "1bf0151a-e6a8-43df-fe50-e15d12009721"
      },
      "execution_count": 26,
      "outputs": [
        {
          "name": "stdout",
          "output_type": "stream",
          "text": [
            "Digite o primeiro número: 5\n"
          ]
        }
      ]
    },
    {
      "cell_type": "code",
      "source": [
        "primeiro_numero = int(primeiro_numero)"
      ],
      "metadata": {
        "id": "LGfqc7MC37VZ"
      },
      "execution_count": 27,
      "outputs": []
    },
    {
      "cell_type": "code",
      "source": [
        "segundo_numero = input(\"Digite o segundo número: \")"
      ],
      "metadata": {
        "colab": {
          "base_uri": "https://localhost:8080/"
        },
        "id": "uTK5hoEw25hz",
        "outputId": "42d7ecee-3d0b-47fd-ed5b-8778e8f55784"
      },
      "execution_count": 28,
      "outputs": [
        {
          "name": "stdout",
          "output_type": "stream",
          "text": [
            "Digite o segundo número: 2\n"
          ]
        }
      ]
    },
    {
      "cell_type": "code",
      "source": [
        "segundo_numero = int(segundo_numero)"
      ],
      "metadata": {
        "id": "lTyWpqZN3z-R"
      },
      "execution_count": 29,
      "outputs": []
    },
    {
      "cell_type": "code",
      "source": [
        "soma = 0\n",
        "subtração = 0\n",
        "divisao = 0\n",
        "multiplicacao = 0\n",
        "divisao_inteira = 0\n",
        "resto_divisao = 0"
      ],
      "metadata": {
        "id": "Omp8Qntt5C7V"
      },
      "execution_count": 30,
      "outputs": []
    },
    {
      "cell_type": "code",
      "source": [
        "soma = primeiro_numero + segundo_numero\n",
        "subtracao = primeiro_numero - segundo_numero\n",
        "divisao = primeiro_numero / segundo_numero\n",
        "multiplicacao = primeiro_numero * segundo_numero\n",
        "divisao_inteira = primeiro_numero // segundo_numero\n",
        "resto_divisao = primeiro_numero % segundo_numero\n"
      ],
      "metadata": {
        "id": "1ikv1kB54vLC"
      },
      "execution_count": 31,
      "outputs": []
    },
    {
      "cell_type": "code",
      "source": [
        "print(\"A soma é:\", soma)\n",
        "print(\"A subtração é:\", subtracao)\n",
        "print(\"A divisão é:\", divisao)\n",
        "print(\"A multiplicação é:\", multiplicacao)\n",
        "print(\"A divisão inteira é:\", divisao_inteira)\n",
        "print(\"O resto da divisão é:\", resto_divisao)"
      ],
      "metadata": {
        "colab": {
          "base_uri": "https://localhost:8080/"
        },
        "id": "P-p-6lsH3gFW",
        "outputId": "45a92e9a-8306-430d-fbe4-f6cd9d1cc7b4"
      },
      "execution_count": 32,
      "outputs": [
        {
          "output_type": "stream",
          "name": "stdout",
          "text": [
            "A soma é: 7\n",
            "A subtração é: 3\n",
            "A divisão é: 2.5\n",
            "A multiplicação é: 10\n",
            "A divisão inteira é: 2\n",
            "O resto da divisão é: 1\n"
          ]
        }
      ]
    },
    {
      "cell_type": "code",
      "source": [],
      "metadata": {
        "id": "p_9PlU5Y49_S"
      },
      "execution_count": 32,
      "outputs": []
    }
  ]
}