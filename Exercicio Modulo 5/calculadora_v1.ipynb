{
  "nbformat": 4,
  "nbformat_minor": 0,
  "metadata": {
    "colab": {
      "provenance": []
    },
    "kernelspec": {
      "name": "python3",
      "display_name": "Python 3"
    },
    "language_info": {
      "name": "python"
    }
  },
  "cells": [
    {
      "cell_type": "markdown",
      "source": [
        "# Exercício do Módulo 5\n",
        "\n",
        "**Primeira versão**: Calculadora de dois números que realiza as seis operações (Soma, Subtração, Divisão, Divisão Inteira e Resto) entre os números informados.\n"
      ],
      "metadata": {
        "id": "gs6NxhxwZGiE"
      }
    },
    {
      "cell_type": "code",
      "source": [
        "primeiro_numero = input(\"Digite o primeiro número: \")"
      ],
      "metadata": {
        "colab": {
          "base_uri": "https://localhost:8080/"
        },
        "id": "wcCg8sBU2j7Z",
        "outputId": "f898ef7b-656c-445b-dc60-acf0dc7810ae"
      },
      "execution_count": 33,
      "outputs": [
        {
          "name": "stdout",
          "output_type": "stream",
          "text": [
            "Digite o primeiro número: 8\n"
          ]
        }
      ]
    },
    {
      "cell_type": "code",
      "source": [
        "primeiro_numero = float(primeiro_numero)"
      ],
      "metadata": {
        "id": "LGfqc7MC37VZ"
      },
      "execution_count": 34,
      "outputs": []
    },
    {
      "cell_type": "code",
      "source": [
        "segundo_numero = input(\"Digite o segundo número: \")"
      ],
      "metadata": {
        "colab": {
          "base_uri": "https://localhost:8080/"
        },
        "id": "uTK5hoEw25hz",
        "outputId": "f30b0f94-80a9-4be7-813e-bd6ed4d2c61f"
      },
      "execution_count": 35,
      "outputs": [
        {
          "name": "stdout",
          "output_type": "stream",
          "text": [
            "Digite o segundo número: 3\n"
          ]
        }
      ]
    },
    {
      "cell_type": "code",
      "source": [
        "segundo_numero = float(segundo_numero)"
      ],
      "metadata": {
        "id": "lTyWpqZN3z-R"
      },
      "execution_count": 36,
      "outputs": []
    },
    {
      "cell_type": "code",
      "source": [
        "soma = 0\n",
        "subtração = 0\n",
        "divisao = 0\n",
        "multiplicacao = 0\n",
        "divisao_inteira = 0\n",
        "resto_divisao = 0"
      ],
      "metadata": {
        "id": "Omp8Qntt5C7V"
      },
      "execution_count": 37,
      "outputs": []
    },
    {
      "cell_type": "code",
      "source": [
        "soma = primeiro_numero + segundo_numero\n",
        "subtracao = primeiro_numero - segundo_numero\n",
        "divisao = primeiro_numero / segundo_numero\n",
        "multiplicacao = primeiro_numero * segundo_numero\n",
        "divisao_inteira = primeiro_numero // segundo_numero\n",
        "resto_divisao = primeiro_numero % segundo_numero\n"
      ],
      "metadata": {
        "id": "1ikv1kB54vLC"
      },
      "execution_count": 38,
      "outputs": []
    },
    {
      "cell_type": "code",
      "source": [
        "print(\"A soma é:\", soma)\n",
        "print(\"A subtração é:\", subtracao)\n",
        "print(\"A divisão é:\", divisao)\n",
        "print(\"A multiplicação é:\", multiplicacao)\n",
        "print(\"A divisão inteira é:\", divisao_inteira)\n",
        "print(\"O resto da divisão é:\", resto_divisao)"
      ],
      "metadata": {
        "colab": {
          "base_uri": "https://localhost:8080/"
        },
        "id": "P-p-6lsH3gFW",
        "outputId": "f20926d7-08c9-4c05-fb00-7181b9a67e4d"
      },
      "execution_count": 39,
      "outputs": [
        {
          "output_type": "stream",
          "name": "stdout",
          "text": [
            "A soma é: 11.0\n",
            "A subtração é: 5.0\n",
            "A divisão é: 2.6666666666666665\n",
            "A multiplicação é: 24.0\n",
            "A divisão inteira é: 2.0\n",
            "O resto da divisão é: 2.0\n"
          ]
        }
      ]
    },
    {
      "cell_type": "code",
      "source": [],
      "metadata": {
        "id": "p_9PlU5Y49_S"
      },
      "execution_count": 39,
      "outputs": []
    }
  ]
}