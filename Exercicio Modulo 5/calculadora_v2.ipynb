{
  "nbformat": 4,
  "nbformat_minor": 0,
  "metadata": {
    "colab": {
      "provenance": []
    },
    "kernelspec": {
      "name": "python3",
      "display_name": "Python 3"
    },
    "language_info": {
      "name": "python"
    }
  },
  "cells": [
    {
      "cell_type": "markdown",
      "source": [
        "#Exercício do Módulo 5\n",
        "\n",
        "**Segunda versão:** Esta versão suporta a adição de quantos números o usuário desejar. Em seguida, mostra uma lista com opções de cálculos para o usuário selecionar e, em seguida, apresenta o resultado."
      ],
      "metadata": {
        "id": "ypZjKwhbySBk"
      }
    },
    {
      "cell_type": "markdown",
      "source": [
        "## Cria a função calculadora"
      ],
      "metadata": {
        "id": "sTWqPYzd2-h4"
      }
    },
    {
      "cell_type": "code",
      "source": [
        "def calculadora():\n",
        "    numeros = []\n",
        "    print(\"Bem-vindo à calculadora!\\n\")\n",
        "\n",
        "#Loop para receber os números informados pelo usuário\n",
        "    while True:\n",
        "        try:\n",
        "            numero = float(input(\"Digite um número (ou 'sair' para finalizar): \"))\n",
        "            numeros.append(numero)\n",
        "        except ValueError:\n",
        "            if input(\"Você digitou 'sair'? (sim/não): \").lower() == 'sim':\n",
        "                break\n",
        "            else:\n",
        "                print(\"Entrada inválida. Por favor, digite um número.\")\n",
        "#Mensagem caso o usuário não inclua números e encerra a função\n",
        "    if not numeros:\n",
        "        print(\"Nenhum número foi inserido.\")\n",
        "        return\n",
        "\n",
        "#Menu de opções\n",
        "    print(\"\\nEscolha a operação:\")\n",
        "    print(\"1. Soma\")\n",
        "    print(\"2. Subtração\")\n",
        "    print(\"3. Divisão\")\n",
        "    print(\"4. Multiplicação\")\n",
        "    print(\"5. Divisão inteira\")\n",
        "    print(\"6. Resto da divisão\")\n",
        "\n",
        "    operacao = int(input(\"Digite o número da operação: \"))\n",
        "\n",
        "#Loop para a realização das operações\n",
        "    resultado = numeros[0]\n",
        "    for numero in numeros[1:]:\n",
        "        if operacao == 1:\n",
        "            resultado += numero\n",
        "        elif operacao == 2:\n",
        "            resultado -= numero\n",
        "        elif operacao == 3:\n",
        "            if numero == 0:\n",
        "                print(\"Divisão por zero não é permitida.\")\n",
        "                return\n",
        "            resultado /= numero\n",
        "        elif operacao == 4:\n",
        "            resultado *= numero\n",
        "        elif operacao == 5:\n",
        "            resultado //= numero\n",
        "        elif operacao == 6:\n",
        "            resultado %= numero\n",
        "        else:\n",
        "            print(\"Opção inválida.\")\n",
        "            return\n",
        "\n",
        "#Exibição do resultado\n",
        "    print(\"\\nO resultado da operação é:\", resultado)"
      ],
      "metadata": {
        "id": "sUmpJgihn4z1"
      },
      "execution_count": 30,
      "outputs": []
    },
    {
      "cell_type": "markdown",
      "source": [
        "## Executa a função calculadora"
      ],
      "metadata": {
        "id": "c6PMUlY83IqE"
      }
    },
    {
      "cell_type": "code",
      "source": [
        "calculadora()"
      ],
      "metadata": {
        "id": "srDu_zzYwakQ"
      },
      "execution_count": null,
      "outputs": []
    }
  ]
}