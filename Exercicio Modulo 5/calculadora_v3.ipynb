{
  "nbformat": 4,
  "nbformat_minor": 0,
  "metadata": {
    "colab": {
      "provenance": []
    },
    "kernelspec": {
      "name": "python3",
      "display_name": "Python 3"
    },
    "language_info": {
      "name": "python"
    }
  },
  "cells": [
    {
      "cell_type": "markdown",
      "source": [
        "#Exercício do Módulo 5\n",
        "\n",
        "**Terceira versão:** Além das implementações da versão anterior, esta versão permite que o usuário utilize o resultado do cálculo anterior para realizar um novo cálculo."
      ],
      "metadata": {
        "id": "ypZjKwhbySBk"
      }
    },
    {
      "cell_type": "markdown",
      "source": [
        "## Cria a função calculadora"
      ],
      "metadata": {
        "id": "sTWqPYzd2-h4"
      }
    },
    {
      "cell_type": "code",
      "source": [
        "def calculadora(resultado_anterior = None):\n",
        "    numeros = []\n",
        "\n",
        "#Adiciona um resultado anterior\n",
        "    if resultado_anterior is not None:\n",
        "        numeros.append(resultado_anterior)\n",
        "        print(\"Resultado anterior adicionado:\", resultado_anterior)\n",
        "\n",
        "#Loop para receber os números informados pelo usuário\n",
        "    while True:\n",
        "        try:\n",
        "            numero = float(input(\"Digite um número (ou 'sair' para finalizar): \"))\n",
        "            numeros.append(numero)\n",
        "        except ValueError:\n",
        "            if input(\"Você digitou 'sair'? (sim/não): \").lower() == 'sim':\n",
        "                break\n",
        "            else:\n",
        "                print(\"Entrada inválida. Por favor, digite um número.\")\n",
        "#Mensagem caso o usuário não inclua números e encerra a função\n",
        "    if not numeros:\n",
        "        print(\"Nenhum número foi inserido.\")\n",
        "        return None\n",
        "\n",
        "#Menu de opções\n",
        "    print(\"\\nEscolha a operação:\")\n",
        "    print(\"1. Soma\")\n",
        "    print(\"2. Subtração\")\n",
        "    print(\"3. Divisão\")\n",
        "    print(\"4. Multiplicação\")\n",
        "    print(\"5. Divisão inteira\")\n",
        "    print(\"6. Resto da divisão\")\n",
        "\n",
        "    operacao = int(input(\"Digite o número da operação: \"))\n",
        "\n",
        "#Loop para a realização das operações\n",
        "    resultado = numeros[0]\n",
        "    for numero in numeros[1:]:\n",
        "        if operacao == 1:\n",
        "            resultado += numero\n",
        "        elif operacao == 2:\n",
        "            resultado -= numero\n",
        "        elif operacao == 3:\n",
        "            if numero == 0:\n",
        "                print(\"Divisão por zero não é permitida.\")\n",
        "                return\n",
        "            resultado /= numero\n",
        "        elif operacao == 4:\n",
        "            resultado *= numero\n",
        "        elif operacao == 5:\n",
        "            resultado //= numero\n",
        "        elif operacao == 6:\n",
        "            resultado %= numero\n",
        "        else:\n",
        "            print(\"Opção inválida.\")\n",
        "            return\n",
        "\n",
        "#Exibição do resultado\n",
        "    print(\"\\nO resultado da operação é:\", resultado)\n",
        "    return resultado"
      ],
      "metadata": {
        "id": "sUmpJgihn4z1"
      },
      "execution_count": 79,
      "outputs": []
    },
    {
      "cell_type": "markdown",
      "source": [
        "##Cria a função Novo Cálculo"
      ],
      "metadata": {
        "id": "bPKkh3CqEbaK"
      }
    },
    {
      "cell_type": "code",
      "source": [
        "def novo_calculo(resultado_atual):\n",
        "    resposta_novo_calculo = input(\"Deseja realizar uma nova operação? Digite 'sim' ou não': \")\n",
        "    if resposta_novo_calculo.lower() == 'sim':\n",
        "        resposta_resultado_anterior = input(\"Utilizar o resultado anterior? Digite 'sim' ou 'não': \")\n",
        "        if resposta_resultado_anterior.lower() == 'sim':\n",
        "            resultado_nc = calculadora(resultado_atual)\n",
        "            novo_calculo(resultado_nc)\n",
        "        else:\n",
        "            resultado_nc = calculadora(None)\n",
        "            novo_calculo(resultado_nc)\n",
        "    else:\n",
        "        print(\"\\nObrigado por utilizar a calculadora. Até a próxima\")\n",
        "        return"
      ],
      "metadata": {
        "id": "J2IZcwEUEUBS"
      },
      "execution_count": 80,
      "outputs": []
    },
    {
      "cell_type": "markdown",
      "source": [
        "## Executa a função calculadora"
      ],
      "metadata": {
        "id": "c6PMUlY83IqE"
      }
    },
    {
      "cell_type": "code",
      "source": [
        "print(\"Bem-vindo à calculadora!\\n\")\n",
        "resultado_atual = calculadora(None)"
      ],
      "metadata": {
        "id": "srDu_zzYwakQ",
        "colab": {
          "base_uri": "https://localhost:8080/"
        },
        "outputId": "37e3ae22-7e6a-45f6-af35-82cb4c1b31f1"
      },
      "execution_count": 81,
      "outputs": [
        {
          "output_type": "stream",
          "name": "stdout",
          "text": [
            "Bem-vindo à calculadora!\n",
            "\n",
            "Digite um número (ou 'sair' para finalizar): 1\n",
            "Digite um número (ou 'sair' para finalizar): 1\n",
            "Digite um número (ou 'sair' para finalizar): sair\n",
            "Você digitou 'sair'? (sim/não): sim\n",
            "\n",
            "Escolha a operação:\n",
            "1. Soma\n",
            "2. Subtração\n",
            "3. Divisão\n",
            "4. Multiplicação\n",
            "5. Divisão inteira\n",
            "6. Resto da divisão\n",
            "Digite o número da operação: 1\n",
            "\n",
            "O resultado da operação é: 2.0\n"
          ]
        }
      ]
    },
    {
      "cell_type": "markdown",
      "source": [
        "##Pergunta se o usuário deseja realizar uma nova operação"
      ],
      "metadata": {
        "id": "BD6dK7gU_HiD"
      }
    },
    {
      "cell_type": "code",
      "source": [
        "novo_calculo(resultado_atual)"
      ],
      "metadata": {
        "id": "4_bWU57rErS2",
        "colab": {
          "base_uri": "https://localhost:8080/"
        },
        "outputId": "e44f29ce-a04d-4fbb-bd2e-5eb70b1766fd"
      },
      "execution_count": 82,
      "outputs": [
        {
          "output_type": "stream",
          "name": "stdout",
          "text": [
            "Deseja realizar uma nova operação? Digite 'sim' ou não': sim\n",
            "Utilizar o resultado anterior? Digite 'sim' ou 'não': sim\n",
            "Resultado anterior adicionado: 2.0\n",
            "Digite um número (ou 'sair' para finalizar): 2\n",
            "Digite um número (ou 'sair' para finalizar): sair\n",
            "Você digitou 'sair'? (sim/não): sim\n",
            "\n",
            "Escolha a operação:\n",
            "1. Soma\n",
            "2. Subtração\n",
            "3. Divisão\n",
            "4. Multiplicação\n",
            "5. Divisão inteira\n",
            "6. Resto da divisão\n",
            "Digite o número da operação: 1\n",
            "\n",
            "O resultado da operação é: 4.0\n",
            "Deseja realizar uma nova operação? Digite 'sim' ou não': não\n",
            "\n",
            "Obrigado por utilizar a calculadora. Até a próxima\n"
          ]
        }
      ]
    }
  ]
}