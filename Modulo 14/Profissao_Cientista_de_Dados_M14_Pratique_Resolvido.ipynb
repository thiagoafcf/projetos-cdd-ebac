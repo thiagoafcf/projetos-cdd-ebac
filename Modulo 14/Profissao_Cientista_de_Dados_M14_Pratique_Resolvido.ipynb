{
  "nbformat": 4,
  "nbformat_minor": 0,
  "metadata": {
    "colab": {
      "provenance": []
    },
    "kernelspec": {
      "name": "python3",
      "display_name": "Python 3"
    },
    "language_info": {
      "name": "python"
    }
  },
  "cells": [
    {
      "cell_type": "markdown",
      "source": [
        "# **MÓDULO 14 - Exercício**\n",
        "# Pré Processamento dos Dados - A primeira etapa Pré Modelagem"
      ],
      "metadata": {
        "id": "oRsiqY067PIY"
      }
    },
    {
      "cell_type": "markdown",
      "source": [
        "Para nossa atividade usaremos uma base de churn também, porém essa base não diz respeito a serviços bancários e sim serviços de internet, telefone e tv - Telecomunicação.\n",
        "\n",
        "Vamos realizar aqui as etapas de limpeza e tratamento de dados vistos durante a aula, porém aplicados a essa base nova."
      ],
      "metadata": {
        "id": "z_xy2WNB7Zil"
      }
    },
    {
      "cell_type": "code",
      "execution_count": 102,
      "metadata": {
        "id": "JT5cIPR07GqI"
      },
      "outputs": [],
      "source": [
        "import seaborn as sns\n",
        "import matplotlib.pyplot as plt\n",
        "import pandas as pd"
      ]
    },
    {
      "cell_type": "code",
      "source": [
        "#Lembrem-se sempre de alterar a importação dos dados de acordo com o diretório de vocês.\n",
        "df = pd.read_csv(\"CHURN_TELECON_MOD08_TAREFA.csv\", delimiter=';')\n",
        "\n",
        "df.head(10)"
      ],
      "metadata": {
        "colab": {
          "base_uri": "https://localhost:8080/",
          "height": 557
        },
        "id": "YpQybbwr76nX",
        "outputId": "fafb1e39-6c14-4d8e-cecd-5b7dcbbd2c35"
      },
      "execution_count": 103,
      "outputs": [
        {
          "output_type": "execute_result",
          "data": {
            "text/plain": [
              "   customerID  Genero  Idoso Casado Dependents  Tempo_como_Cliente  \\\n",
              "0  7590-VHVEG  Female      0    Yes         No                   1   \n",
              "1  5575-GNVDE    Male      0     No         No                  34   \n",
              "2  3668-QPYBK    Male      0     No         No                   2   \n",
              "3  7795-CFOCW    Male      0     No         No                  45   \n",
              "4  9237-HQITU     NaN      0     No         No                   2   \n",
              "5  9305-CDSKC     NaN      0     No         No                   8   \n",
              "6  1452-KIOVK     NaN      0     No        Yes                  22   \n",
              "7  6713-OKOMC     NaN      0     No         No                  10   \n",
              "8  7892-POOKP     NaN      0    Yes         No                  28   \n",
              "9  6388-TABGU     NaN      0     No        Yes                  62   \n",
              "\n",
              "  PhoneService Servico_Internet Servico_Seguranca Suporte_Tecnico StreamingTV  \\\n",
              "0           No              DSL                No              No          No   \n",
              "1          Yes              DSL               Yes              No          No   \n",
              "2          Yes              DSL               Yes              No          No   \n",
              "3           No              DSL               Yes             Yes          No   \n",
              "4          Yes      Fiber optic                No              No          No   \n",
              "5          Yes      Fiber optic                No              No         Yes   \n",
              "6          Yes      Fiber optic                No              No         Yes   \n",
              "7           No              DSL               Yes              No          No   \n",
              "8          Yes      Fiber optic                No             Yes         Yes   \n",
              "9          Yes              dsl               Yes              No          No   \n",
              "\n",
              "    Tipo_Contrato              PaymentMethod  Pagamento_Mensal  Total_Pago  \\\n",
              "0  Month-to-month           Electronic check             29.85       29.85   \n",
              "1        One year               Mailed check             56.95     1889.50   \n",
              "2  Month-to-month               Mailed check             53.85      108.15   \n",
              "3        One year  Bank transfer (automatic)               NaN     1840.75   \n",
              "4  Month-to-month           Electronic check               NaN      151.65   \n",
              "5  Month-to-month           Electronic check               NaN      820.50   \n",
              "6  Month-to-month    Credit card (automatic)               NaN     1949.40   \n",
              "7  Month-to-month               Mailed check               NaN      301.90   \n",
              "8  Month-to-month           Electronic check               NaN     3046.05   \n",
              "9        One year  Bank transfer (automatic)               NaN     3487.95   \n",
              "\n",
              "  Churn  \n",
              "0    No  \n",
              "1    No  \n",
              "2   Yes  \n",
              "3    No  \n",
              "4   Yes  \n",
              "5   NaN  \n",
              "6   NaN  \n",
              "7   NaN  \n",
              "8   NaN  \n",
              "9   NaN  "
            ],
            "text/html": [
              "\n",
              "  <div id=\"df-a1d990d9-fb6b-4508-b44c-dda4340bb252\" class=\"colab-df-container\">\n",
              "    <div>\n",
              "<style scoped>\n",
              "    .dataframe tbody tr th:only-of-type {\n",
              "        vertical-align: middle;\n",
              "    }\n",
              "\n",
              "    .dataframe tbody tr th {\n",
              "        vertical-align: top;\n",
              "    }\n",
              "\n",
              "    .dataframe thead th {\n",
              "        text-align: right;\n",
              "    }\n",
              "</style>\n",
              "<table border=\"1\" class=\"dataframe\">\n",
              "  <thead>\n",
              "    <tr style=\"text-align: right;\">\n",
              "      <th></th>\n",
              "      <th>customerID</th>\n",
              "      <th>Genero</th>\n",
              "      <th>Idoso</th>\n",
              "      <th>Casado</th>\n",
              "      <th>Dependents</th>\n",
              "      <th>Tempo_como_Cliente</th>\n",
              "      <th>PhoneService</th>\n",
              "      <th>Servico_Internet</th>\n",
              "      <th>Servico_Seguranca</th>\n",
              "      <th>Suporte_Tecnico</th>\n",
              "      <th>StreamingTV</th>\n",
              "      <th>Tipo_Contrato</th>\n",
              "      <th>PaymentMethod</th>\n",
              "      <th>Pagamento_Mensal</th>\n",
              "      <th>Total_Pago</th>\n",
              "      <th>Churn</th>\n",
              "    </tr>\n",
              "  </thead>\n",
              "  <tbody>\n",
              "    <tr>\n",
              "      <th>0</th>\n",
              "      <td>7590-VHVEG</td>\n",
              "      <td>Female</td>\n",
              "      <td>0</td>\n",
              "      <td>Yes</td>\n",
              "      <td>No</td>\n",
              "      <td>1</td>\n",
              "      <td>No</td>\n",
              "      <td>DSL</td>\n",
              "      <td>No</td>\n",
              "      <td>No</td>\n",
              "      <td>No</td>\n",
              "      <td>Month-to-month</td>\n",
              "      <td>Electronic check</td>\n",
              "      <td>29.85</td>\n",
              "      <td>29.85</td>\n",
              "      <td>No</td>\n",
              "    </tr>\n",
              "    <tr>\n",
              "      <th>1</th>\n",
              "      <td>5575-GNVDE</td>\n",
              "      <td>Male</td>\n",
              "      <td>0</td>\n",
              "      <td>No</td>\n",
              "      <td>No</td>\n",
              "      <td>34</td>\n",
              "      <td>Yes</td>\n",
              "      <td>DSL</td>\n",
              "      <td>Yes</td>\n",
              "      <td>No</td>\n",
              "      <td>No</td>\n",
              "      <td>One year</td>\n",
              "      <td>Mailed check</td>\n",
              "      <td>56.95</td>\n",
              "      <td>1889.50</td>\n",
              "      <td>No</td>\n",
              "    </tr>\n",
              "    <tr>\n",
              "      <th>2</th>\n",
              "      <td>3668-QPYBK</td>\n",
              "      <td>Male</td>\n",
              "      <td>0</td>\n",
              "      <td>No</td>\n",
              "      <td>No</td>\n",
              "      <td>2</td>\n",
              "      <td>Yes</td>\n",
              "      <td>DSL</td>\n",
              "      <td>Yes</td>\n",
              "      <td>No</td>\n",
              "      <td>No</td>\n",
              "      <td>Month-to-month</td>\n",
              "      <td>Mailed check</td>\n",
              "      <td>53.85</td>\n",
              "      <td>108.15</td>\n",
              "      <td>Yes</td>\n",
              "    </tr>\n",
              "    <tr>\n",
              "      <th>3</th>\n",
              "      <td>7795-CFOCW</td>\n",
              "      <td>Male</td>\n",
              "      <td>0</td>\n",
              "      <td>No</td>\n",
              "      <td>No</td>\n",
              "      <td>45</td>\n",
              "      <td>No</td>\n",
              "      <td>DSL</td>\n",
              "      <td>Yes</td>\n",
              "      <td>Yes</td>\n",
              "      <td>No</td>\n",
              "      <td>One year</td>\n",
              "      <td>Bank transfer (automatic)</td>\n",
              "      <td>NaN</td>\n",
              "      <td>1840.75</td>\n",
              "      <td>No</td>\n",
              "    </tr>\n",
              "    <tr>\n",
              "      <th>4</th>\n",
              "      <td>9237-HQITU</td>\n",
              "      <td>NaN</td>\n",
              "      <td>0</td>\n",
              "      <td>No</td>\n",
              "      <td>No</td>\n",
              "      <td>2</td>\n",
              "      <td>Yes</td>\n",
              "      <td>Fiber optic</td>\n",
              "      <td>No</td>\n",
              "      <td>No</td>\n",
              "      <td>No</td>\n",
              "      <td>Month-to-month</td>\n",
              "      <td>Electronic check</td>\n",
              "      <td>NaN</td>\n",
              "      <td>151.65</td>\n",
              "      <td>Yes</td>\n",
              "    </tr>\n",
              "    <tr>\n",
              "      <th>5</th>\n",
              "      <td>9305-CDSKC</td>\n",
              "      <td>NaN</td>\n",
              "      <td>0</td>\n",
              "      <td>No</td>\n",
              "      <td>No</td>\n",
              "      <td>8</td>\n",
              "      <td>Yes</td>\n",
              "      <td>Fiber optic</td>\n",
              "      <td>No</td>\n",
              "      <td>No</td>\n",
              "      <td>Yes</td>\n",
              "      <td>Month-to-month</td>\n",
              "      <td>Electronic check</td>\n",
              "      <td>NaN</td>\n",
              "      <td>820.50</td>\n",
              "      <td>NaN</td>\n",
              "    </tr>\n",
              "    <tr>\n",
              "      <th>6</th>\n",
              "      <td>1452-KIOVK</td>\n",
              "      <td>NaN</td>\n",
              "      <td>0</td>\n",
              "      <td>No</td>\n",
              "      <td>Yes</td>\n",
              "      <td>22</td>\n",
              "      <td>Yes</td>\n",
              "      <td>Fiber optic</td>\n",
              "      <td>No</td>\n",
              "      <td>No</td>\n",
              "      <td>Yes</td>\n",
              "      <td>Month-to-month</td>\n",
              "      <td>Credit card (automatic)</td>\n",
              "      <td>NaN</td>\n",
              "      <td>1949.40</td>\n",
              "      <td>NaN</td>\n",
              "    </tr>\n",
              "    <tr>\n",
              "      <th>7</th>\n",
              "      <td>6713-OKOMC</td>\n",
              "      <td>NaN</td>\n",
              "      <td>0</td>\n",
              "      <td>No</td>\n",
              "      <td>No</td>\n",
              "      <td>10</td>\n",
              "      <td>No</td>\n",
              "      <td>DSL</td>\n",
              "      <td>Yes</td>\n",
              "      <td>No</td>\n",
              "      <td>No</td>\n",
              "      <td>Month-to-month</td>\n",
              "      <td>Mailed check</td>\n",
              "      <td>NaN</td>\n",
              "      <td>301.90</td>\n",
              "      <td>NaN</td>\n",
              "    </tr>\n",
              "    <tr>\n",
              "      <th>8</th>\n",
              "      <td>7892-POOKP</td>\n",
              "      <td>NaN</td>\n",
              "      <td>0</td>\n",
              "      <td>Yes</td>\n",
              "      <td>No</td>\n",
              "      <td>28</td>\n",
              "      <td>Yes</td>\n",
              "      <td>Fiber optic</td>\n",
              "      <td>No</td>\n",
              "      <td>Yes</td>\n",
              "      <td>Yes</td>\n",
              "      <td>Month-to-month</td>\n",
              "      <td>Electronic check</td>\n",
              "      <td>NaN</td>\n",
              "      <td>3046.05</td>\n",
              "      <td>NaN</td>\n",
              "    </tr>\n",
              "    <tr>\n",
              "      <th>9</th>\n",
              "      <td>6388-TABGU</td>\n",
              "      <td>NaN</td>\n",
              "      <td>0</td>\n",
              "      <td>No</td>\n",
              "      <td>Yes</td>\n",
              "      <td>62</td>\n",
              "      <td>Yes</td>\n",
              "      <td>dsl</td>\n",
              "      <td>Yes</td>\n",
              "      <td>No</td>\n",
              "      <td>No</td>\n",
              "      <td>One year</td>\n",
              "      <td>Bank transfer (automatic)</td>\n",
              "      <td>NaN</td>\n",
              "      <td>3487.95</td>\n",
              "      <td>NaN</td>\n",
              "    </tr>\n",
              "  </tbody>\n",
              "</table>\n",
              "</div>\n",
              "    <div class=\"colab-df-buttons\">\n",
              "\n",
              "  <div class=\"colab-df-container\">\n",
              "    <button class=\"colab-df-convert\" onclick=\"convertToInteractive('df-a1d990d9-fb6b-4508-b44c-dda4340bb252')\"\n",
              "            title=\"Convert this dataframe to an interactive table.\"\n",
              "            style=\"display:none;\">\n",
              "\n",
              "  <svg xmlns=\"http://www.w3.org/2000/svg\" height=\"24px\" viewBox=\"0 -960 960 960\">\n",
              "    <path d=\"M120-120v-720h720v720H120Zm60-500h600v-160H180v160Zm220 220h160v-160H400v160Zm0 220h160v-160H400v160ZM180-400h160v-160H180v160Zm440 0h160v-160H620v160ZM180-180h160v-160H180v160Zm440 0h160v-160H620v160Z\"/>\n",
              "  </svg>\n",
              "    </button>\n",
              "\n",
              "  <style>\n",
              "    .colab-df-container {\n",
              "      display:flex;\n",
              "      gap: 12px;\n",
              "    }\n",
              "\n",
              "    .colab-df-convert {\n",
              "      background-color: #E8F0FE;\n",
              "      border: none;\n",
              "      border-radius: 50%;\n",
              "      cursor: pointer;\n",
              "      display: none;\n",
              "      fill: #1967D2;\n",
              "      height: 32px;\n",
              "      padding: 0 0 0 0;\n",
              "      width: 32px;\n",
              "    }\n",
              "\n",
              "    .colab-df-convert:hover {\n",
              "      background-color: #E2EBFA;\n",
              "      box-shadow: 0px 1px 2px rgba(60, 64, 67, 0.3), 0px 1px 3px 1px rgba(60, 64, 67, 0.15);\n",
              "      fill: #174EA6;\n",
              "    }\n",
              "\n",
              "    .colab-df-buttons div {\n",
              "      margin-bottom: 4px;\n",
              "    }\n",
              "\n",
              "    [theme=dark] .colab-df-convert {\n",
              "      background-color: #3B4455;\n",
              "      fill: #D2E3FC;\n",
              "    }\n",
              "\n",
              "    [theme=dark] .colab-df-convert:hover {\n",
              "      background-color: #434B5C;\n",
              "      box-shadow: 0px 1px 3px 1px rgba(0, 0, 0, 0.15);\n",
              "      filter: drop-shadow(0px 1px 2px rgba(0, 0, 0, 0.3));\n",
              "      fill: #FFFFFF;\n",
              "    }\n",
              "  </style>\n",
              "\n",
              "    <script>\n",
              "      const buttonEl =\n",
              "        document.querySelector('#df-a1d990d9-fb6b-4508-b44c-dda4340bb252 button.colab-df-convert');\n",
              "      buttonEl.style.display =\n",
              "        google.colab.kernel.accessAllowed ? 'block' : 'none';\n",
              "\n",
              "      async function convertToInteractive(key) {\n",
              "        const element = document.querySelector('#df-a1d990d9-fb6b-4508-b44c-dda4340bb252');\n",
              "        const dataTable =\n",
              "          await google.colab.kernel.invokeFunction('convertToInteractive',\n",
              "                                                    [key], {});\n",
              "        if (!dataTable) return;\n",
              "\n",
              "        const docLinkHtml = 'Like what you see? Visit the ' +\n",
              "          '<a target=\"_blank\" href=https://colab.research.google.com/notebooks/data_table.ipynb>data table notebook</a>'\n",
              "          + ' to learn more about interactive tables.';\n",
              "        element.innerHTML = '';\n",
              "        dataTable['output_type'] = 'display_data';\n",
              "        await google.colab.output.renderOutput(dataTable, element);\n",
              "        const docLink = document.createElement('div');\n",
              "        docLink.innerHTML = docLinkHtml;\n",
              "        element.appendChild(docLink);\n",
              "      }\n",
              "    </script>\n",
              "  </div>\n",
              "\n",
              "\n",
              "<div id=\"df-42f42061-3b0b-4064-8a6c-ea87606e3ddc\">\n",
              "  <button class=\"colab-df-quickchart\" onclick=\"quickchart('df-42f42061-3b0b-4064-8a6c-ea87606e3ddc')\"\n",
              "            title=\"Suggest charts\"\n",
              "            style=\"display:none;\">\n",
              "\n",
              "<svg xmlns=\"http://www.w3.org/2000/svg\" height=\"24px\"viewBox=\"0 0 24 24\"\n",
              "     width=\"24px\">\n",
              "    <g>\n",
              "        <path d=\"M19 3H5c-1.1 0-2 .9-2 2v14c0 1.1.9 2 2 2h14c1.1 0 2-.9 2-2V5c0-1.1-.9-2-2-2zM9 17H7v-7h2v7zm4 0h-2V7h2v10zm4 0h-2v-4h2v4z\"/>\n",
              "    </g>\n",
              "</svg>\n",
              "  </button>\n",
              "\n",
              "<style>\n",
              "  .colab-df-quickchart {\n",
              "      --bg-color: #E8F0FE;\n",
              "      --fill-color: #1967D2;\n",
              "      --hover-bg-color: #E2EBFA;\n",
              "      --hover-fill-color: #174EA6;\n",
              "      --disabled-fill-color: #AAA;\n",
              "      --disabled-bg-color: #DDD;\n",
              "  }\n",
              "\n",
              "  [theme=dark] .colab-df-quickchart {\n",
              "      --bg-color: #3B4455;\n",
              "      --fill-color: #D2E3FC;\n",
              "      --hover-bg-color: #434B5C;\n",
              "      --hover-fill-color: #FFFFFF;\n",
              "      --disabled-bg-color: #3B4455;\n",
              "      --disabled-fill-color: #666;\n",
              "  }\n",
              "\n",
              "  .colab-df-quickchart {\n",
              "    background-color: var(--bg-color);\n",
              "    border: none;\n",
              "    border-radius: 50%;\n",
              "    cursor: pointer;\n",
              "    display: none;\n",
              "    fill: var(--fill-color);\n",
              "    height: 32px;\n",
              "    padding: 0;\n",
              "    width: 32px;\n",
              "  }\n",
              "\n",
              "  .colab-df-quickchart:hover {\n",
              "    background-color: var(--hover-bg-color);\n",
              "    box-shadow: 0 1px 2px rgba(60, 64, 67, 0.3), 0 1px 3px 1px rgba(60, 64, 67, 0.15);\n",
              "    fill: var(--button-hover-fill-color);\n",
              "  }\n",
              "\n",
              "  .colab-df-quickchart-complete:disabled,\n",
              "  .colab-df-quickchart-complete:disabled:hover {\n",
              "    background-color: var(--disabled-bg-color);\n",
              "    fill: var(--disabled-fill-color);\n",
              "    box-shadow: none;\n",
              "  }\n",
              "\n",
              "  .colab-df-spinner {\n",
              "    border: 2px solid var(--fill-color);\n",
              "    border-color: transparent;\n",
              "    border-bottom-color: var(--fill-color);\n",
              "    animation:\n",
              "      spin 1s steps(1) infinite;\n",
              "  }\n",
              "\n",
              "  @keyframes spin {\n",
              "    0% {\n",
              "      border-color: transparent;\n",
              "      border-bottom-color: var(--fill-color);\n",
              "      border-left-color: var(--fill-color);\n",
              "    }\n",
              "    20% {\n",
              "      border-color: transparent;\n",
              "      border-left-color: var(--fill-color);\n",
              "      border-top-color: var(--fill-color);\n",
              "    }\n",
              "    30% {\n",
              "      border-color: transparent;\n",
              "      border-left-color: var(--fill-color);\n",
              "      border-top-color: var(--fill-color);\n",
              "      border-right-color: var(--fill-color);\n",
              "    }\n",
              "    40% {\n",
              "      border-color: transparent;\n",
              "      border-right-color: var(--fill-color);\n",
              "      border-top-color: var(--fill-color);\n",
              "    }\n",
              "    60% {\n",
              "      border-color: transparent;\n",
              "      border-right-color: var(--fill-color);\n",
              "    }\n",
              "    80% {\n",
              "      border-color: transparent;\n",
              "      border-right-color: var(--fill-color);\n",
              "      border-bottom-color: var(--fill-color);\n",
              "    }\n",
              "    90% {\n",
              "      border-color: transparent;\n",
              "      border-bottom-color: var(--fill-color);\n",
              "    }\n",
              "  }\n",
              "</style>\n",
              "\n",
              "  <script>\n",
              "    async function quickchart(key) {\n",
              "      const quickchartButtonEl =\n",
              "        document.querySelector('#' + key + ' button');\n",
              "      quickchartButtonEl.disabled = true;  // To prevent multiple clicks.\n",
              "      quickchartButtonEl.classList.add('colab-df-spinner');\n",
              "      try {\n",
              "        const charts = await google.colab.kernel.invokeFunction(\n",
              "            'suggestCharts', [key], {});\n",
              "      } catch (error) {\n",
              "        console.error('Error during call to suggestCharts:', error);\n",
              "      }\n",
              "      quickchartButtonEl.classList.remove('colab-df-spinner');\n",
              "      quickchartButtonEl.classList.add('colab-df-quickchart-complete');\n",
              "    }\n",
              "    (() => {\n",
              "      let quickchartButtonEl =\n",
              "        document.querySelector('#df-42f42061-3b0b-4064-8a6c-ea87606e3ddc button');\n",
              "      quickchartButtonEl.style.display =\n",
              "        google.colab.kernel.accessAllowed ? 'block' : 'none';\n",
              "    })();\n",
              "  </script>\n",
              "</div>\n",
              "\n",
              "    </div>\n",
              "  </div>\n"
            ],
            "application/vnd.google.colaboratory.intrinsic+json": {
              "type": "dataframe",
              "variable_name": "df",
              "summary": "{\n  \"name\": \"df\",\n  \"rows\": 2500,\n  \"fields\": [\n    {\n      \"column\": \"customerID\",\n      \"properties\": {\n        \"dtype\": \"string\",\n        \"num_unique_values\": 2500,\n        \"samples\": [\n          \"2951-QOQTK\",\n          \"3312-UUMZW\",\n          \"3800-LYTRK\"\n        ],\n        \"semantic_type\": \"\",\n        \"description\": \"\"\n      }\n    },\n    {\n      \"column\": \"Genero\",\n      \"properties\": {\n        \"dtype\": \"category\",\n        \"num_unique_values\": 5,\n        \"samples\": [\n          \"Male\",\n          \"f\",\n          \"F\"\n        ],\n        \"semantic_type\": \"\",\n        \"description\": \"\"\n      }\n    },\n    {\n      \"column\": \"Idoso\",\n      \"properties\": {\n        \"dtype\": \"number\",\n        \"std\": 0,\n        \"min\": 0,\n        \"max\": 1,\n        \"num_unique_values\": 2,\n        \"samples\": [\n          1,\n          0\n        ],\n        \"semantic_type\": \"\",\n        \"description\": \"\"\n      }\n    },\n    {\n      \"column\": \"Casado\",\n      \"properties\": {\n        \"dtype\": \"category\",\n        \"num_unique_values\": 2,\n        \"samples\": [\n          \"No\",\n          \"Yes\"\n        ],\n        \"semantic_type\": \"\",\n        \"description\": \"\"\n      }\n    },\n    {\n      \"column\": \"Dependents\",\n      \"properties\": {\n        \"dtype\": \"category\",\n        \"num_unique_values\": 2,\n        \"samples\": [\n          \"Yes\",\n          \"No\"\n        ],\n        \"semantic_type\": \"\",\n        \"description\": \"\"\n      }\n    },\n    {\n      \"column\": \"Tempo_como_Cliente\",\n      \"properties\": {\n        \"dtype\": \"number\",\n        \"std\": 24,\n        \"min\": 0,\n        \"max\": 72,\n        \"num_unique_values\": 73,\n        \"samples\": [\n          8,\n          40\n        ],\n        \"semantic_type\": \"\",\n        \"description\": \"\"\n      }\n    },\n    {\n      \"column\": \"PhoneService\",\n      \"properties\": {\n        \"dtype\": \"category\",\n        \"num_unique_values\": 2,\n        \"samples\": [\n          \"Yes\",\n          \"No\"\n        ],\n        \"semantic_type\": \"\",\n        \"description\": \"\"\n      }\n    },\n    {\n      \"column\": \"Servico_Internet\",\n      \"properties\": {\n        \"dtype\": \"category\",\n        \"num_unique_values\": 4,\n        \"samples\": [\n          \"Fiber optic\",\n          \"No\"\n        ],\n        \"semantic_type\": \"\",\n        \"description\": \"\"\n      }\n    },\n    {\n      \"column\": \"Servico_Seguranca\",\n      \"properties\": {\n        \"dtype\": \"category\",\n        \"num_unique_values\": 3,\n        \"samples\": [\n          \"No\",\n          \"Yes\"\n        ],\n        \"semantic_type\": \"\",\n        \"description\": \"\"\n      }\n    },\n    {\n      \"column\": \"Suporte_Tecnico\",\n      \"properties\": {\n        \"dtype\": \"category\",\n        \"num_unique_values\": 3,\n        \"samples\": [\n          \"No\",\n          \"Yes\"\n        ],\n        \"semantic_type\": \"\",\n        \"description\": \"\"\n      }\n    },\n    {\n      \"column\": \"StreamingTV\",\n      \"properties\": {\n        \"dtype\": \"category\",\n        \"num_unique_values\": 3,\n        \"samples\": [\n          \"No\",\n          \"Yes\"\n        ],\n        \"semantic_type\": \"\",\n        \"description\": \"\"\n      }\n    },\n    {\n      \"column\": \"Tipo_Contrato\",\n      \"properties\": {\n        \"dtype\": \"category\",\n        \"num_unique_values\": 3,\n        \"samples\": [\n          \"Month-to-month\",\n          \"One year\"\n        ],\n        \"semantic_type\": \"\",\n        \"description\": \"\"\n      }\n    },\n    {\n      \"column\": \"PaymentMethod\",\n      \"properties\": {\n        \"dtype\": \"category\",\n        \"num_unique_values\": 4,\n        \"samples\": [\n          \"Mailed check\",\n          \"Credit card (automatic)\"\n        ],\n        \"semantic_type\": \"\",\n        \"description\": \"\"\n      }\n    },\n    {\n      \"column\": \"Pagamento_Mensal\",\n      \"properties\": {\n        \"dtype\": \"number\",\n        \"std\": 29.931520109798708,\n        \"min\": 18.4,\n        \"max\": 118.65,\n        \"num_unique_values\": 1021,\n        \"samples\": [\n          43.65,\n          66.35\n        ],\n        \"semantic_type\": \"\",\n        \"description\": \"\"\n      }\n    },\n    {\n      \"column\": \"Total_Pago\",\n      \"properties\": {\n        \"dtype\": \"number\",\n        \"std\": 2265.3477524929344,\n        \"min\": 18.8,\n        \"max\": 8564.75,\n        \"num_unique_values\": 2428,\n        \"samples\": [\n          60.65,\n          521.35\n        ],\n        \"semantic_type\": \"\",\n        \"description\": \"\"\n      }\n    },\n    {\n      \"column\": \"Churn\",\n      \"properties\": {\n        \"dtype\": \"category\",\n        \"num_unique_values\": 2,\n        \"samples\": [\n          \"Yes\",\n          \"No\"\n        ],\n        \"semantic_type\": \"\",\n        \"description\": \"\"\n      }\n    }\n  ]\n}"
            }
          },
          "metadata": {},
          "execution_count": 103
        }
      ]
    },
    {
      "cell_type": "markdown",
      "source": [
        "Legenda dos dados:\n",
        "\n",
        "*   **CustomerID** : Esse é o ID único de cada cliente nosso da rede de produtos de telecomunicação.\n",
        "\n",
        "*   **Genero** : O genero dos nossos clientes.\n",
        "\n",
        "*   **Idoso** : Se nosso cliente tem acima de 60 anos ou não. (Sim = 1 | Não = 0)\n",
        "\n",
        "*   **Casado** : Se nosso cliente é casado ou não.\n",
        "\n",
        "*   **Dependents** : Se cliente tem dependentes.\n",
        "\n",
        "*   **Tempo_como_Cliente** : Tempo em meses que nosso cliente está com a nossa empresa.\n",
        "\n",
        "*   **PhoneService** : Se ele contratou serviço telefônico com a nossa empresa.\n",
        "\n",
        "*   **Servico_Internet** : Qual o tipo de serviço de internet contratado.\n",
        "\n",
        "*   **Servico_Seguranca** : Se ele contratou serviço de segurança com a nossa empresa.\n",
        "\n",
        "*   **Suporte_Tecnico** : Se já acionou o suporte técnico.\n",
        "\n",
        "*   **StreamingTV** : Se ele contratou serviço de streaming para TV.\n",
        "\n",
        "*   **Tipo_Contrato** : Qual o tipo de contrato dos nossos clientes, se era mensal, anual etc.\n",
        "\n",
        "*   **Tipo_Contrato** : Qual o tipo de contrato dos nossos clientes, se era mensal, anual etc.\n",
        "\n",
        "*   **PaymentMethod** : Forma de Pagamento.\n",
        "\n",
        "*   **Pagamento_Mensal** : Quanto o cliente pagava mensalmente.\n",
        "\n",
        "*   **Total_Pago** : Total já pago pelo cliente para nossa companhia.\n",
        "\n",
        "*   **Churn** : Nossa coluna mais importante, se nosso cliente nos abandonou ou não.\n",
        "\n",
        "\n"
      ],
      "metadata": {
        "id": "-Cmll45c8TGu"
      }
    },
    {
      "cell_type": "markdown",
      "source": [
        "# 1 - Carregue a base, verifique se os tipos de dados estão de acordo com cada coluna e caso não estejam realize a transformação dos tipos de dados."
      ],
      "metadata": {
        "id": "2aZL5edn-Sxy"
      }
    },
    {
      "cell_type": "code",
      "source": [
        "#seu código aqui\n",
        "df.info()"
      ],
      "metadata": {
        "id": "uVbeG6vJ-ao3",
        "colab": {
          "base_uri": "https://localhost:8080/"
        },
        "outputId": "2ce33068-1849-43f3-d016-ac0894183b68"
      },
      "execution_count": 104,
      "outputs": [
        {
          "output_type": "stream",
          "name": "stdout",
          "text": [
            "<class 'pandas.core.frame.DataFrame'>\n",
            "RangeIndex: 2500 entries, 0 to 2499\n",
            "Data columns (total 16 columns):\n",
            " #   Column              Non-Null Count  Dtype  \n",
            "---  ------              --------------  -----  \n",
            " 0   customerID          2500 non-null   object \n",
            " 1   Genero              2488 non-null   object \n",
            " 2   Idoso               2500 non-null   int64  \n",
            " 3   Casado              2500 non-null   object \n",
            " 4   Dependents          2500 non-null   object \n",
            " 5   Tempo_como_Cliente  2500 non-null   int64  \n",
            " 6   PhoneService        1018 non-null   object \n",
            " 7   Servico_Internet    2500 non-null   object \n",
            " 8   Servico_Seguranca   2500 non-null   object \n",
            " 9   Suporte_Tecnico     2500 non-null   object \n",
            " 10  StreamingTV         2500 non-null   object \n",
            " 11  Tipo_Contrato       2500 non-null   object \n",
            " 12  PaymentMethod       2500 non-null   object \n",
            " 13  Pagamento_Mensal    2175 non-null   float64\n",
            " 14  Total_Pago          2500 non-null   float64\n",
            " 15  Churn               2495 non-null   object \n",
            "dtypes: float64(2), int64(2), object(12)\n",
            "memory usage: 312.6+ KB\n"
          ]
        }
      ]
    },
    {
      "cell_type": "markdown",
      "source": [
        "# 2 - Esse exercício faremos por etapas:\n",
        "A) Verifique se temos colunas com dados faltantes e traga a % dos dados faltantes por coluna."
      ],
      "metadata": {
        "id": "cu4kjiXn_w9t"
      }
    },
    {
      "cell_type": "code",
      "source": [
        "#seu código aqui\n",
        "(df.isnull().sum() / len(df)) * 100"
      ],
      "metadata": {
        "id": "nNYLgakRDPr2",
        "colab": {
          "base_uri": "https://localhost:8080/",
          "height": 586
        },
        "outputId": "d0a423f8-dd11-4904-8816-32b9e140bdb7"
      },
      "execution_count": 105,
      "outputs": [
        {
          "output_type": "execute_result",
          "data": {
            "text/plain": [
              "customerID             0.00\n",
              "Genero                 0.48\n",
              "Idoso                  0.00\n",
              "Casado                 0.00\n",
              "Dependents             0.00\n",
              "Tempo_como_Cliente     0.00\n",
              "PhoneService          59.28\n",
              "Servico_Internet       0.00\n",
              "Servico_Seguranca      0.00\n",
              "Suporte_Tecnico        0.00\n",
              "StreamingTV            0.00\n",
              "Tipo_Contrato          0.00\n",
              "PaymentMethod          0.00\n",
              "Pagamento_Mensal      13.00\n",
              "Total_Pago             0.00\n",
              "Churn                  0.20\n",
              "dtype: float64"
            ],
            "text/html": [
              "<div>\n",
              "<style scoped>\n",
              "    .dataframe tbody tr th:only-of-type {\n",
              "        vertical-align: middle;\n",
              "    }\n",
              "\n",
              "    .dataframe tbody tr th {\n",
              "        vertical-align: top;\n",
              "    }\n",
              "\n",
              "    .dataframe thead th {\n",
              "        text-align: right;\n",
              "    }\n",
              "</style>\n",
              "<table border=\"1\" class=\"dataframe\">\n",
              "  <thead>\n",
              "    <tr style=\"text-align: right;\">\n",
              "      <th></th>\n",
              "      <th>0</th>\n",
              "    </tr>\n",
              "  </thead>\n",
              "  <tbody>\n",
              "    <tr>\n",
              "      <th>customerID</th>\n",
              "      <td>0.00</td>\n",
              "    </tr>\n",
              "    <tr>\n",
              "      <th>Genero</th>\n",
              "      <td>0.48</td>\n",
              "    </tr>\n",
              "    <tr>\n",
              "      <th>Idoso</th>\n",
              "      <td>0.00</td>\n",
              "    </tr>\n",
              "    <tr>\n",
              "      <th>Casado</th>\n",
              "      <td>0.00</td>\n",
              "    </tr>\n",
              "    <tr>\n",
              "      <th>Dependents</th>\n",
              "      <td>0.00</td>\n",
              "    </tr>\n",
              "    <tr>\n",
              "      <th>Tempo_como_Cliente</th>\n",
              "      <td>0.00</td>\n",
              "    </tr>\n",
              "    <tr>\n",
              "      <th>PhoneService</th>\n",
              "      <td>59.28</td>\n",
              "    </tr>\n",
              "    <tr>\n",
              "      <th>Servico_Internet</th>\n",
              "      <td>0.00</td>\n",
              "    </tr>\n",
              "    <tr>\n",
              "      <th>Servico_Seguranca</th>\n",
              "      <td>0.00</td>\n",
              "    </tr>\n",
              "    <tr>\n",
              "      <th>Suporte_Tecnico</th>\n",
              "      <td>0.00</td>\n",
              "    </tr>\n",
              "    <tr>\n",
              "      <th>StreamingTV</th>\n",
              "      <td>0.00</td>\n",
              "    </tr>\n",
              "    <tr>\n",
              "      <th>Tipo_Contrato</th>\n",
              "      <td>0.00</td>\n",
              "    </tr>\n",
              "    <tr>\n",
              "      <th>PaymentMethod</th>\n",
              "      <td>0.00</td>\n",
              "    </tr>\n",
              "    <tr>\n",
              "      <th>Pagamento_Mensal</th>\n",
              "      <td>13.00</td>\n",
              "    </tr>\n",
              "    <tr>\n",
              "      <th>Total_Pago</th>\n",
              "      <td>0.00</td>\n",
              "    </tr>\n",
              "    <tr>\n",
              "      <th>Churn</th>\n",
              "      <td>0.20</td>\n",
              "    </tr>\n",
              "  </tbody>\n",
              "</table>\n",
              "</div><br><label><b>dtype:</b> float64</label>"
            ]
          },
          "metadata": {},
          "execution_count": 105
        }
      ]
    },
    {
      "cell_type": "markdown",
      "source": [
        "B) Exclua nessa etapa as linhas das colunas com dados faltantes que você analisar que esse método é o ideal. Justifique o motivo de estar excluindo essas linhas."
      ],
      "metadata": {
        "id": "HzzZHCVO_8b9"
      }
    },
    {
      "cell_type": "code",
      "source": [
        "#seu código aqui\n",
        "df.dropna(subset='Genero', inplace=True)\n",
        "(df.isnull().sum() / len(df)) * 100"
      ],
      "metadata": {
        "id": "bDZTgNy8ECwu",
        "colab": {
          "base_uri": "https://localhost:8080/",
          "height": 586
        },
        "outputId": "60b96e5f-5a82-4084-c2de-28a888de30f0"
      },
      "execution_count": 106,
      "outputs": [
        {
          "output_type": "execute_result",
          "data": {
            "text/plain": [
              "customerID             0.000000\n",
              "Genero                 0.000000\n",
              "Idoso                  0.000000\n",
              "Casado                 0.000000\n",
              "Dependents             0.000000\n",
              "Tempo_como_Cliente     0.000000\n",
              "PhoneService          59.565916\n",
              "Servico_Internet       0.000000\n",
              "Servico_Seguranca      0.000000\n",
              "Suporte_Tecnico        0.000000\n",
              "StreamingTV            0.000000\n",
              "Tipo_Contrato          0.000000\n",
              "PaymentMethod          0.000000\n",
              "Pagamento_Mensal      12.580386\n",
              "Total_Pago             0.000000\n",
              "Churn                  0.000000\n",
              "dtype: float64"
            ],
            "text/html": [
              "<div>\n",
              "<style scoped>\n",
              "    .dataframe tbody tr th:only-of-type {\n",
              "        vertical-align: middle;\n",
              "    }\n",
              "\n",
              "    .dataframe tbody tr th {\n",
              "        vertical-align: top;\n",
              "    }\n",
              "\n",
              "    .dataframe thead th {\n",
              "        text-align: right;\n",
              "    }\n",
              "</style>\n",
              "<table border=\"1\" class=\"dataframe\">\n",
              "  <thead>\n",
              "    <tr style=\"text-align: right;\">\n",
              "      <th></th>\n",
              "      <th>0</th>\n",
              "    </tr>\n",
              "  </thead>\n",
              "  <tbody>\n",
              "    <tr>\n",
              "      <th>customerID</th>\n",
              "      <td>0.000000</td>\n",
              "    </tr>\n",
              "    <tr>\n",
              "      <th>Genero</th>\n",
              "      <td>0.000000</td>\n",
              "    </tr>\n",
              "    <tr>\n",
              "      <th>Idoso</th>\n",
              "      <td>0.000000</td>\n",
              "    </tr>\n",
              "    <tr>\n",
              "      <th>Casado</th>\n",
              "      <td>0.000000</td>\n",
              "    </tr>\n",
              "    <tr>\n",
              "      <th>Dependents</th>\n",
              "      <td>0.000000</td>\n",
              "    </tr>\n",
              "    <tr>\n",
              "      <th>Tempo_como_Cliente</th>\n",
              "      <td>0.000000</td>\n",
              "    </tr>\n",
              "    <tr>\n",
              "      <th>PhoneService</th>\n",
              "      <td>59.565916</td>\n",
              "    </tr>\n",
              "    <tr>\n",
              "      <th>Servico_Internet</th>\n",
              "      <td>0.000000</td>\n",
              "    </tr>\n",
              "    <tr>\n",
              "      <th>Servico_Seguranca</th>\n",
              "      <td>0.000000</td>\n",
              "    </tr>\n",
              "    <tr>\n",
              "      <th>Suporte_Tecnico</th>\n",
              "      <td>0.000000</td>\n",
              "    </tr>\n",
              "    <tr>\n",
              "      <th>StreamingTV</th>\n",
              "      <td>0.000000</td>\n",
              "    </tr>\n",
              "    <tr>\n",
              "      <th>Tipo_Contrato</th>\n",
              "      <td>0.000000</td>\n",
              "    </tr>\n",
              "    <tr>\n",
              "      <th>PaymentMethod</th>\n",
              "      <td>0.000000</td>\n",
              "    </tr>\n",
              "    <tr>\n",
              "      <th>Pagamento_Mensal</th>\n",
              "      <td>12.580386</td>\n",
              "    </tr>\n",
              "    <tr>\n",
              "      <th>Total_Pago</th>\n",
              "      <td>0.000000</td>\n",
              "    </tr>\n",
              "    <tr>\n",
              "      <th>Churn</th>\n",
              "      <td>0.000000</td>\n",
              "    </tr>\n",
              "  </tbody>\n",
              "</table>\n",
              "</div><br><label><b>dtype:</b> float64</label>"
            ]
          },
          "metadata": {},
          "execution_count": 106
        }
      ]
    },
    {
      "cell_type": "markdown",
      "source": [
        "**Optei por excluir os nulos da coluna Genero pois a porcentagem era muito baixa (0,48% do total de dados) e que representa uma perda de dados pouco relevante.  \n",
        "Coincidentemente, ao tratar os dados nulos de Genero, os dados nulos de Churn também foram excluídos devido a uma sobreposição.**"
      ],
      "metadata": {
        "id": "nSApwhHo-Ofv"
      }
    },
    {
      "cell_type": "markdown",
      "source": [
        "C) Nessa etapa substitua pela média, mediana ou moda as linhas das colunas com valores faltantes que você analisou e entendeu que esse era o melhor método. Não se esqueça de justificar sua escolha."
      ],
      "metadata": {
        "id": "plAEzGoMAP16"
      }
    },
    {
      "cell_type": "markdown",
      "source": [
        "**Dica variáveis numéricas:** Não se esqueça de verificar a distrbuição dos dados, média e mediana."
      ],
      "metadata": {
        "id": "9S7O7GzoEevG"
      }
    },
    {
      "cell_type": "markdown",
      "source": [
        "**Dica variáveis categóricas:** Caso precise substituir uma variável categórica utilize um gráfico de barras para verificar a que mais aparece e utilizar ela na substituição.\n",
        "Ou você pode optar por excluir a coluna, mas justifique sua escolha.\n",
        "\n",
        "Caso opte por substituir você pode utilizar a função fillna:\n",
        "df['SUACOLUNA'].fillna(\"VALOR QUE SUBSTITUIRA O NULO\", inplace=True)\n",
        "Ela funcionará como a replace."
      ],
      "metadata": {
        "id": "MuhfrNV5FGDY"
      }
    },
    {
      "cell_type": "code",
      "source": [
        "#seu código aqui\n",
        "plt.figure(figsize=(6, 4))\n",
        "sns.histplot(df['PhoneService'])\n",
        "plt.show()\n",
        "\n",
        "display(df['PhoneService'].value_counts(normalize=True) * 100)"
      ],
      "metadata": {
        "id": "f9xdpik_ERw1",
        "colab": {
          "base_uri": "https://localhost:8080/",
          "height": 549
        },
        "outputId": "d36337a4-bbde-49fe-e4f7-46a49634502c"
      },
      "execution_count": 107,
      "outputs": [
        {
          "output_type": "display_data",
          "data": {
            "text/plain": [
              "<Figure size 600x400 with 1 Axes>"
            ],
            "image/png": "[encoded data removed]"
          },
          "metadata": {}
        },
        {
          "output_type": "display_data",
          "data": {
            "text/plain": [
              "PhoneService\n",
              "Yes    91.451292\n",
              "No      8.548708\n",
              "Name: proportion, dtype: float64"
            ],
            "text/html": [
              "<div>\n",
              "<style scoped>\n",
              "    .dataframe tbody tr th:only-of-type {\n",
              "        vertical-align: middle;\n",
              "    }\n",
              "\n",
              "    .dataframe tbody tr th {\n",
              "        vertical-align: top;\n",
              "    }\n",
              "\n",
              "    .dataframe thead th {\n",
              "        text-align: right;\n",
              "    }\n",
              "</style>\n",
              "<table border=\"1\" class=\"dataframe\">\n",
              "  <thead>\n",
              "    <tr style=\"text-align: right;\">\n",
              "      <th></th>\n",
              "      <th>proportion</th>\n",
              "    </tr>\n",
              "    <tr>\n",
              "      <th>PhoneService</th>\n",
              "      <th></th>\n",
              "    </tr>\n",
              "  </thead>\n",
              "  <tbody>\n",
              "    <tr>\n",
              "      <th>Yes</th>\n",
              "      <td>91.451292</td>\n",
              "    </tr>\n",
              "    <tr>\n",
              "      <th>No</th>\n",
              "      <td>8.548708</td>\n",
              "    </tr>\n",
              "  </tbody>\n",
              "</table>\n",
              "</div><br><label><b>dtype:</b> float64</label>"
            ]
          },
          "metadata": {}
        }
      ]
    },
    {
      "cell_type": "markdown",
      "source": [
        "**Para coluna PhoneService, a escolha foi por substituir os valores nulos pelo valor que mais aparece, Yes, uma vez que este representa 96,5% dos valores válidos**"
      ],
      "metadata": {
        "id": "kkn6R0DLlnVh"
      }
    },
    {
      "cell_type": "code",
      "source": [
        "df['PhoneService'] = df['PhoneService'].fillna('Yes')\n",
        "df['PhoneService'].isnull().sum()"
      ],
      "metadata": {
        "colab": {
          "base_uri": "https://localhost:8080/"
        },
        "id": "xzsZ7sr0Jrgz",
        "outputId": "6b4f9d89-ae55-4869-e3f9-97173312efc0"
      },
      "execution_count": 108,
      "outputs": [
        {
          "output_type": "execute_result",
          "data": {
            "text/plain": [
              "0"
            ]
          },
          "metadata": {},
          "execution_count": 108
        }
      ]
    },
    {
      "cell_type": "code",
      "source": [
        "df['Pagamento_Mensal'].describe()"
      ],
      "metadata": {
        "colab": {
          "base_uri": "https://localhost:8080/",
          "height": 335
        },
        "id": "3CCQoBMhKwEX",
        "outputId": "26d35456-9a2e-40e7-9860-dc7582410664"
      },
      "execution_count": 109,
      "outputs": [
        {
          "output_type": "execute_result",
          "data": {
            "text/plain": [
              "count    2175.000000\n",
              "mean       65.607563\n",
              "std        29.931520\n",
              "min        18.400000\n",
              "25%        39.500000\n",
              "50%        71.450000\n",
              "75%        90.250000\n",
              "max       118.650000\n",
              "Name: Pagamento_Mensal, dtype: float64"
            ],
            "text/html": [
              "<div>\n",
              "<style scoped>\n",
              "    .dataframe tbody tr th:only-of-type {\n",
              "        vertical-align: middle;\n",
              "    }\n",
              "\n",
              "    .dataframe tbody tr th {\n",
              "        vertical-align: top;\n",
              "    }\n",
              "\n",
              "    .dataframe thead th {\n",
              "        text-align: right;\n",
              "    }\n",
              "</style>\n",
              "<table border=\"1\" class=\"dataframe\">\n",
              "  <thead>\n",
              "    <tr style=\"text-align: right;\">\n",
              "      <th></th>\n",
              "      <th>Pagamento_Mensal</th>\n",
              "    </tr>\n",
              "  </thead>\n",
              "  <tbody>\n",
              "    <tr>\n",
              "      <th>count</th>\n",
              "      <td>2175.000000</td>\n",
              "    </tr>\n",
              "    <tr>\n",
              "      <th>mean</th>\n",
              "      <td>65.607563</td>\n",
              "    </tr>\n",
              "    <tr>\n",
              "      <th>std</th>\n",
              "      <td>29.931520</td>\n",
              "    </tr>\n",
              "    <tr>\n",
              "      <th>min</th>\n",
              "      <td>18.400000</td>\n",
              "    </tr>\n",
              "    <tr>\n",
              "      <th>25%</th>\n",
              "      <td>39.500000</td>\n",
              "    </tr>\n",
              "    <tr>\n",
              "      <th>50%</th>\n",
              "      <td>71.450000</td>\n",
              "    </tr>\n",
              "    <tr>\n",
              "      <th>75%</th>\n",
              "      <td>90.250000</td>\n",
              "    </tr>\n",
              "    <tr>\n",
              "      <th>max</th>\n",
              "      <td>118.650000</td>\n",
              "    </tr>\n",
              "  </tbody>\n",
              "</table>\n",
              "</div><br><label><b>dtype:</b> float64</label>"
            ]
          },
          "metadata": {},
          "execution_count": 109
        }
      ]
    },
    {
      "cell_type": "code",
      "source": [
        "plt.figure(figsize=(6, 4))\n",
        "sns.boxplot(data=df, y='Pagamento_Mensal')\n",
        "plt.show()\n",
        "\n",
        "plt.figure(figsize=(6, 4))\n",
        "sns.histplot(data=df, x='Pagamento_Mensal', kde=True)\n",
        "plt.show()"
      ],
      "metadata": {
        "colab": {
          "base_uri": "https://localhost:8080/",
          "height": 720
        },
        "id": "XjydQegnLgjJ",
        "outputId": "eff68210-839e-4bed-b656-0dc4d6a3ab99"
      },
      "execution_count": 110,
      "outputs": [
        {
          "output_type": "display_data",
          "data": {
            "text/plain": [
              "<Figure size 600x400 with 1 Axes>"
            ],
            "image/png": "[encoded data removed]"
          },
          "metadata": {}
        },
        {
          "output_type": "display_data",
          "data": {
            "text/plain": [
              "<Figure size 600x400 with 1 Axes>"
            ],
            "image/png": "[encoded data removed]"
          },
          "metadata": {}
        }
      ]
    },
    {
      "cell_type": "markdown",
      "source": [
        "**No caso da coluna Pagamento_Mensal, a opção foi por utilizar a mediana. A média e a mediana têm uma alguma diferença e não há outliers. Portanto a distribuição é assimétrica, sendo, então, melhor a mediana por sofrer menos influência dessa assimetria.**"
      ],
      "metadata": {
        "id": "7e6SLBVOnZ57"
      }
    },
    {
      "cell_type": "code",
      "source": [
        "df['Pagamento_Mensal'] = df['Pagamento_Mensal'].fillna(df['Pagamento_Mensal'].median())"
      ],
      "metadata": {
        "id": "sHb_eY2nXxS8"
      },
      "execution_count": 111,
      "outputs": []
    },
    {
      "cell_type": "code",
      "source": [
        "display(df.info())"
      ],
      "metadata": {
        "colab": {
          "base_uri": "https://localhost:8080/",
          "height": 434
        },
        "id": "P0uaXKhcY3fQ",
        "outputId": "ae834b85-1c2c-49b5-dfd4-4494d46d26da"
      },
      "execution_count": 112,
      "outputs": [
        {
          "output_type": "stream",
          "name": "stdout",
          "text": [
            "<class 'pandas.core.frame.DataFrame'>\n",
            "Index: 2488 entries, 0 to 2499\n",
            "Data columns (total 16 columns):\n",
            " #   Column              Non-Null Count  Dtype  \n",
            "---  ------              --------------  -----  \n",
            " 0   customerID          2488 non-null   object \n",
            " 1   Genero              2488 non-null   object \n",
            " 2   Idoso               2488 non-null   int64  \n",
            " 3   Casado              2488 non-null   object \n",
            " 4   Dependents          2488 non-null   object \n",
            " 5   Tempo_como_Cliente  2488 non-null   int64  \n",
            " 6   PhoneService        2488 non-null   object \n",
            " 7   Servico_Internet    2488 non-null   object \n",
            " 8   Servico_Seguranca   2488 non-null   object \n",
            " 9   Suporte_Tecnico     2488 non-null   object \n",
            " 10  StreamingTV         2488 non-null   object \n",
            " 11  Tipo_Contrato       2488 non-null   object \n",
            " 12  PaymentMethod       2488 non-null   object \n",
            " 13  Pagamento_Mensal    2488 non-null   float64\n",
            " 14  Total_Pago          2488 non-null   float64\n",
            " 15  Churn               2488 non-null   object \n",
            "dtypes: float64(2), int64(2), object(12)\n",
            "memory usage: 330.4+ KB\n"
          ]
        },
        {
          "output_type": "display_data",
          "data": {
            "text/plain": [
              "None"
            ]
          },
          "metadata": {}
        }
      ]
    },
    {
      "cell_type": "markdown",
      "source": [
        "# 3 - Verifique se encontramos valores digitados incorretamente, ou com letras maiusculas ou minusculas, ou até mesmo mesmos valores porém escritos de forma dirente e corrija."
      ],
      "metadata": {
        "id": "KyM7bzIWAevH"
      }
    },
    {
      "cell_type": "code",
      "source": [
        "#seu código aqui\n",
        "for column in df.columns:\n",
        "    unique_values = df[column].unique()\n",
        "    print(f\"Valores únicos na coluna '{column}': {unique_values}\")"
      ],
      "metadata": {
        "id": "pBLJpzXXGTcq",
        "colab": {
          "base_uri": "https://localhost:8080/"
        },
        "outputId": "7e474cfa-9439-45af-b549-c3fa48166bc4"
      },
      "execution_count": 113,
      "outputs": [
        {
          "output_type": "stream",
          "name": "stdout",
          "text": [
            "Valores únicos na coluna 'customerID': ['7590-VHVEG' '5575-GNVDE' '3668-QPYBK' ... '5702-SKUOB' '1134-YWTYF'\n",
            " '6061-GWWAV']\n",
            "Valores únicos na coluna 'Genero': ['Female' 'Male' 'F' 'M' 'f']\n",
            "Valores únicos na coluna 'Idoso': [0 1]\n",
            "Valores únicos na coluna 'Casado': ['Yes' 'No']\n",
            "Valores únicos na coluna 'Dependents': ['No' 'Yes']\n",
            "Valores únicos na coluna 'Tempo_como_Cliente': [ 1 34  2 45 52 71 10 21 12 58 49 30 47 72 17 27  5 46 11 70 63 13 69 43\n",
            " 15 25  8 60 18 66  9  3 31 50 64 62 56  7 42 35 48 29 65 38 68 32 55 37\n",
            " 36 41  6  4 33 67 23 57 61 14 22 16 20 53 40 59 24 44 19 54 51 28 26  0\n",
            " 39]\n",
            "Valores únicos na coluna 'PhoneService': ['No' 'Yes']\n",
            "Valores únicos na coluna 'Servico_Internet': ['DSL' 'No' 'Fiber optic' 'dsl']\n",
            "Valores únicos na coluna 'Servico_Seguranca': ['No' 'Yes' 'No internet service']\n",
            "Valores únicos na coluna 'Suporte_Tecnico': ['No' 'Yes' 'No internet service']\n",
            "Valores únicos na coluna 'StreamingTV': ['No' 'No internet service' 'Yes']\n",
            "Valores únicos na coluna 'Tipo_Contrato': ['Month-to-month' 'One year' 'Two year']\n",
            "Valores únicos na coluna 'PaymentMethod': ['Electronic check' 'Mailed check' 'Bank transfer (automatic)'\n",
            " 'Credit card (automatic)']\n",
            "Valores únicos na coluna 'Pagamento_Mensal': [ 29.85  56.95  53.85 ...  98.4  100.7   60.45]\n",
            "Valores únicos na coluna 'Total_Pago': [  29.85 1889.5   108.15 ...   93.45 1389.85 2894.55]\n",
            "Valores únicos na coluna 'Churn': ['No' 'Yes']\n"
          ]
        }
      ]
    },
    {
      "cell_type": "code",
      "source": [
        "df['Genero'] = df['Genero'].replace({'F': 'Female', 'f': 'Female', 'M': 'Male'})\n",
        "df['Servico_Internet'] = df['Servico_Internet'].replace({'dsl': 'DSL'})\n",
        "df['Servico_Seguranca'] = df['Servico_Seguranca'].replace({'No internet service': 'No'})\n",
        "df['Suporte_Tecnico'] = df['Suporte_Tecnico'].replace({'No internet service': 'No'})\n",
        "df['StreamingTV'] = df['StreamingTV'].replace({'No internet service': 'No'})\n",
        "\n",
        "for column in df.columns:\n",
        "    unique_values = df[column].unique()\n",
        "    print(f\"Valores únicos na coluna '{column}': {unique_values}\")"
      ],
      "metadata": {
        "id": "1n8a0wNnzIzt",
        "colab": {
          "base_uri": "https://localhost:8080/"
        },
        "outputId": "54ea741c-45ef-4106-fb27-4a6b306c9178"
      },
      "execution_count": 114,
      "outputs": [
        {
          "output_type": "stream",
          "name": "stdout",
          "text": [
            "Valores únicos na coluna 'customerID': ['7590-VHVEG' '5575-GNVDE' '3668-QPYBK' ... '5702-SKUOB' '1134-YWTYF'\n",
            " '6061-GWWAV']\n",
            "Valores únicos na coluna 'Genero': ['Female' 'Male']\n",
            "Valores únicos na coluna 'Idoso': [0 1]\n",
            "Valores únicos na coluna 'Casado': ['Yes' 'No']\n",
            "Valores únicos na coluna 'Dependents': ['No' 'Yes']\n",
            "Valores únicos na coluna 'Tempo_como_Cliente': [ 1 34  2 45 52 71 10 21 12 58 49 30 47 72 17 27  5 46 11 70 63 13 69 43\n",
            " 15 25  8 60 18 66  9  3 31 50 64 62 56  7 42 35 48 29 65 38 68 32 55 37\n",
            " 36 41  6  4 33 67 23 57 61 14 22 16 20 53 40 59 24 44 19 54 51 28 26  0\n",
            " 39]\n",
            "Valores únicos na coluna 'PhoneService': ['No' 'Yes']\n",
            "Valores únicos na coluna 'Servico_Internet': ['DSL' 'No' 'Fiber optic']\n",
            "Valores únicos na coluna 'Servico_Seguranca': ['No' 'Yes']\n",
            "Valores únicos na coluna 'Suporte_Tecnico': ['No' 'Yes']\n",
            "Valores únicos na coluna 'StreamingTV': ['No' 'Yes']\n",
            "Valores únicos na coluna 'Tipo_Contrato': ['Month-to-month' 'One year' 'Two year']\n",
            "Valores únicos na coluna 'PaymentMethod': ['Electronic check' 'Mailed check' 'Bank transfer (automatic)'\n",
            " 'Credit card (automatic)']\n",
            "Valores únicos na coluna 'Pagamento_Mensal': [ 29.85  56.95  53.85 ...  98.4  100.7   60.45]\n",
            "Valores únicos na coluna 'Total_Pago': [  29.85 1889.5   108.15 ...   93.45 1389.85 2894.55]\n",
            "Valores únicos na coluna 'Churn': ['No' 'Yes']\n"
          ]
        }
      ]
    },
    {
      "cell_type": "markdown",
      "source": [
        "# [EXTRA] 4 - Caso deseje, para manter um padrão na sua base, renomeie as colunas ou deixand"
      ],
      "metadata": {
        "id": "C-2vJktpA0r7"
      }
    },
    {
      "cell_type": "code",
      "source": [
        "df.drop(columns=['customerID'], inplace=True)\n",
        "\n",
        "df.rename(columns={'PhoneService': 'Servico_Telefone', 'PaymentMethod': 'Metodo_Pagamento'}, inplace=True)"
      ],
      "metadata": {
        "id": "HBVMBD7UTCzt"
      },
      "execution_count": 115,
      "outputs": []
    },
    {
      "cell_type": "code",
      "source": [
        "for column in df.columns:\n",
        "    if df[column].isin(['Yes', 'No']).all():\n",
        "        df[column] = df[column].replace({'Yes': 1, 'No': 0})\n",
        "        df[column] = df[column].astype(int)\n",
        "    if df[column].dtype == object:\n",
        "        df[column] = df[column].str.lower()\n",
        "    unique_values = df[column].unique()\n",
        "    print(f\"Valores únicos na coluna '{column}': {unique_values}\")"
      ],
      "metadata": {
        "colab": {
          "base_uri": "https://localhost:8080/"
        },
        "id": "t-i9x1sbV7vn",
        "outputId": "6354bd94-27a5-44f5-e3ed-eaa078f86be6"
      },
      "execution_count": 116,
      "outputs": [
        {
          "output_type": "stream",
          "name": "stdout",
          "text": [
            "Valores únicos na coluna 'Genero': ['female' 'male']\n",
            "Valores únicos na coluna 'Idoso': [0 1]\n",
            "Valores únicos na coluna 'Casado': [1 0]\n",
            "Valores únicos na coluna 'Dependents': [0 1]\n",
            "Valores únicos na coluna 'Tempo_como_Cliente': [ 1 34  2 45 52 71 10 21 12 58 49 30 47 72 17 27  5 46 11 70 63 13 69 43\n",
            " 15 25  8 60 18 66  9  3 31 50 64 62 56  7 42 35 48 29 65 38 68 32 55 37\n",
            " 36 41  6  4 33 67 23 57 61 14 22 16 20 53 40 59 24 44 19 54 51 28 26  0\n",
            " 39]\n",
            "Valores únicos na coluna 'Servico_Telefone': [0 1]\n",
            "Valores únicos na coluna 'Servico_Internet': ['dsl' 'no' 'fiber optic']\n",
            "Valores únicos na coluna 'Servico_Seguranca': [0 1]\n",
            "Valores únicos na coluna 'Suporte_Tecnico': [0 1]\n",
            "Valores únicos na coluna 'StreamingTV': [0 1]\n",
            "Valores únicos na coluna 'Tipo_Contrato': ['month-to-month' 'one year' 'two year']\n",
            "Valores únicos na coluna 'Metodo_Pagamento': ['electronic check' 'mailed check' 'bank transfer (automatic)'\n",
            " 'credit card (automatic)']\n",
            "Valores únicos na coluna 'Pagamento_Mensal': [ 29.85  56.95  53.85 ...  98.4  100.7   60.45]\n",
            "Valores únicos na coluna 'Total_Pago': [  29.85 1889.5   108.15 ...   93.45 1389.85 2894.55]\n",
            "Valores únicos na coluna 'Churn': [0 1]\n"
          ]
        },
        {
          "output_type": "stream",
          "name": "stderr",
          "text": [
            "<ipython-input-116-55f19ab5c065>:3: FutureWarning: Downcasting behavior in `replace` is deprecated and will be removed in a future version. To retain the old behavior, explicitly call `result.infer_objects(copy=False)`. To opt-in to the future behavior, set `pd.set_option('future.no_silent_downcasting', True)`\n",
            "  df[column] = df[column].replace({'Yes': 1, 'No': 0})\n",
            "<ipython-input-116-55f19ab5c065>:3: FutureWarning: Downcasting behavior in `replace` is deprecated and will be removed in a future version. To retain the old behavior, explicitly call `result.infer_objects(copy=False)`. To opt-in to the future behavior, set `pd.set_option('future.no_silent_downcasting', True)`\n",
            "  df[column] = df[column].replace({'Yes': 1, 'No': 0})\n",
            "<ipython-input-116-55f19ab5c065>:3: FutureWarning: Downcasting behavior in `replace` is deprecated and will be removed in a future version. To retain the old behavior, explicitly call `result.infer_objects(copy=False)`. To opt-in to the future behavior, set `pd.set_option('future.no_silent_downcasting', True)`\n",
            "  df[column] = df[column].replace({'Yes': 1, 'No': 0})\n",
            "<ipython-input-116-55f19ab5c065>:3: FutureWarning: Downcasting behavior in `replace` is deprecated and will be removed in a future version. To retain the old behavior, explicitly call `result.infer_objects(copy=False)`. To opt-in to the future behavior, set `pd.set_option('future.no_silent_downcasting', True)`\n",
            "  df[column] = df[column].replace({'Yes': 1, 'No': 0})\n",
            "<ipython-input-116-55f19ab5c065>:3: FutureWarning: Downcasting behavior in `replace` is deprecated and will be removed in a future version. To retain the old behavior, explicitly call `result.infer_objects(copy=False)`. To opt-in to the future behavior, set `pd.set_option('future.no_silent_downcasting', True)`\n",
            "  df[column] = df[column].replace({'Yes': 1, 'No': 0})\n",
            "<ipython-input-116-55f19ab5c065>:3: FutureWarning: Downcasting behavior in `replace` is deprecated and will be removed in a future version. To retain the old behavior, explicitly call `result.infer_objects(copy=False)`. To opt-in to the future behavior, set `pd.set_option('future.no_silent_downcasting', True)`\n",
            "  df[column] = df[column].replace({'Yes': 1, 'No': 0})\n",
            "<ipython-input-116-55f19ab5c065>:3: FutureWarning: Downcasting behavior in `replace` is deprecated and will be removed in a future version. To retain the old behavior, explicitly call `result.infer_objects(copy=False)`. To opt-in to the future behavior, set `pd.set_option('future.no_silent_downcasting', True)`\n",
            "  df[column] = df[column].replace({'Yes': 1, 'No': 0})\n"
          ]
        }
      ]
    }
  ]
}